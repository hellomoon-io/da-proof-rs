{
 "cells": [
  {
   "cell_type": "code",
   "execution_count": 23,
   "id": "bba50793-c295-4a14-9228-5b913625878a",
   "metadata": {},
   "outputs": [],
   "source": [
    "import galois\n",
    "import numpy as np"
   ]
  },
  {
   "cell_type": "code",
   "execution_count": 56,
   "id": "c24ef2c0-c3ca-47b5-9ff5-9a6b4cac10ee",
   "metadata": {},
   "outputs": [
    {
     "data": {
      "text/plain": [
       "'Galois Field:\\n  name: GF(2^16)\\n  characteristic: 2\\n  degree: 16\\n  order: 65536\\n  irreducible_poly: x^16 + x^5 + x^3 + x^2 + 1\\n  is_primitive_poly: True\\n  primitive_element: x'"
      ]
     },
     "execution_count": 56,
     "metadata": {},
     "output_type": "execute_result"
    }
   ],
   "source": [
    "GF = galois.GF(2**16)\n",
    "GF.repr(\"int\")\n",
    "GF.properties"
   ]
  },
  {
   "cell_type": "code",
   "execution_count": 77,
   "id": "01b8d955-481d-41c1-b3ff-8076d08022e6",
   "metadata": {},
   "outputs": [
    {
     "data": {
      "text/plain": [
       "Poly(18x^6 + 52x^5 + 86x^4, GF(2^16))"
      ]
     },
     "execution_count": 77,
     "metadata": {},
     "output_type": "execute_result"
    }
   ],
   "source": [
    "dividend = galois.Poly([0x12, 0x34, 0x56, 0x0, 0x0, 0x0, 0x0], field=GF)\n",
    "dividend"
   ]
  },
  {
   "cell_type": "code",
   "execution_count": 78,
   "id": "52a04c66-ef52-413c-87eb-8f9b5820109f",
   "metadata": {},
   "outputs": [
    {
     "data": {
      "text/plain": [
       "Poly(x^4 + 15x^3 + 54x^2 + 120x, GF(2^16))"
      ]
     },
     "execution_count": 78,
     "metadata": {},
     "output_type": "execute_result"
    }
   ],
   "source": [
    "divisor = galois.Poly([0x01, 0x0f, 0x36, 0x78, 0x0], field=GF)\n",
    "divisor"
   ]
  },
  {
   "cell_type": "code",
   "execution_count": 79,
   "id": "9162bb89-df38-4f87-bf7b-deca2c7887b5",
   "metadata": {},
   "outputs": [
    {
     "data": {
      "text/plain": [
       "Poly(18x^2 + 218x + 1932, GF(2^16))"
      ]
     },
     "execution_count": 79,
     "metadata": {},
     "output_type": "execute_result"
    }
   ],
   "source": [
    "quotient = dividend // divisor\n",
    "quotient"
   ]
  },
  {
   "cell_type": "code",
   "execution_count": 80,
   "id": "b724dab8-eb11-4f38-84ca-37b8fb99c974",
   "metadata": {},
   "outputs": [
    {
     "data": {
      "text/plain": [
       "Poly(14728x^3 + 48856x^2 + 22029x, GF(2^16))"
      ]
     },
     "execution_count": 80,
     "metadata": {},
     "output_type": "execute_result"
    }
   ],
   "source": [
    "remainder = dividend % divisor\n",
    "remainder"
   ]
  },
  {
   "cell_type": "code",
   "execution_count": 81,
   "id": "a7e3fc40-a8e1-407f-bc54-6be142176ea0",
   "metadata": {},
   "outputs": [
    {
     "data": {
      "text/plain": [
       "Poly(18x^6 + 52x^5 + 86x^4, GF(2^16))"
      ]
     },
     "execution_count": 81,
     "metadata": {},
     "output_type": "execute_result"
    }
   ],
   "source": [
    "quotient * divisor + remainder"
   ]
  },
  {
   "cell_type": "code",
   "execution_count": 82,
   "id": "a18364e4-0df9-43cd-bcf1-4991d55070c8",
   "metadata": {},
   "outputs": [
    {
     "data": {
      "text/plain": [
       "Poly(14728x^3 + 47704x^2 + 25469x + 57565, GF(2^16))"
      ]
     },
     "execution_count": 82,
     "metadata": {},
     "output_type": "execute_result"
    }
   ],
   "source": [
    "my_remainder = galois.Poly([14728,47704,25469,57565], field=GF)\n",
    "my_remainder"
   ]
  },
  {
   "cell_type": "code",
   "execution_count": null,
   "id": "109a30f1-ea07-4f2c-b7e4-d947348fd102",
   "metadata": {},
   "outputs": [],
   "source": []
  }
 ],
 "metadata": {
  "kernelspec": {
   "display_name": "Python 3 (ipykernel)",
   "language": "python",
   "name": "python3"
  },
  "language_info": {
   "codemirror_mode": {
    "name": "ipython",
    "version": 3
   },
   "file_extension": ".py",
   "mimetype": "text/x-python",
   "name": "python",
   "nbconvert_exporter": "python",
   "pygments_lexer": "ipython3",
   "version": "3.11.9"
  }
 },
 "nbformat": 4,
 "nbformat_minor": 5
}
