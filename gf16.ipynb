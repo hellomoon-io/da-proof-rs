{
 "cells": [
  {
   "cell_type": "code",
   "execution_count": 23,
   "id": "bba50793-c295-4a14-9228-5b913625878a",
   "metadata": {},
   "outputs": [],
   "source": [
    "import galois\n",
    "import numpy as np"
   ]
  },
  {
   "cell_type": "code",
   "execution_count": 56,
   "id": "c24ef2c0-c3ca-47b5-9ff5-9a6b4cac10ee",
   "metadata": {},
   "outputs": [
    {
     "data": {
      "text/plain": [
       "'Galois Field:\\n  name: GF(2^16)\\n  characteristic: 2\\n  degree: 16\\n  order: 65536\\n  irreducible_poly: x^16 + x^5 + x^3 + x^2 + 1\\n  is_primitive_poly: True\\n  primitive_element: x'"
      ]
     },
     "execution_count": 56,
     "metadata": {},
     "output_type": "execute_result"
    }
   ],
   "source": [
    "GF = galois.GF(2**16)\n",
    "GF.repr(\"int\")\n",
    "GF.properties"
   ]
  },
  {
   "cell_type": "code",
   "execution_count": 83,
   "id": "109a30f1-ea07-4f2c-b7e4-d947348fd102",
   "metadata": {},
   "outputs": [],
   "source": [
    "arr = [1, 2, 3, 4]"
   ]
  },
  {
   "cell_type": "code",
   "execution_count": 84,
   "id": "dc01f509-2a91-4523-842a-cca6698d2b35",
   "metadata": {},
   "outputs": [
    {
     "data": {
      "text/plain": [
       "[4, 3, 2, 1]"
      ]
     },
     "execution_count": 84,
     "metadata": {},
     "output_type": "execute_result"
    }
   ],
   "source": [
    "arr[::-1]"
   ]
  },
  {
   "cell_type": "code",
   "execution_count": null,
   "id": "e307ffbc-1f55-429c-8260-481d83db3ea6",
   "metadata": {},
   "outputs": [],
   "source": []
  }
 ],
 "metadata": {
  "kernelspec": {
   "display_name": "Python 3 (ipykernel)",
   "language": "python",
   "name": "python3"
  },
  "language_info": {
   "codemirror_mode": {
    "name": "ipython",
    "version": 3
   },
   "file_extension": ".py",
   "mimetype": "text/x-python",
   "name": "python",
   "nbconvert_exporter": "python",
   "pygments_lexer": "ipython3",
   "version": "3.11.9"
  }
 },
 "nbformat": 4,
 "nbformat_minor": 5
}
